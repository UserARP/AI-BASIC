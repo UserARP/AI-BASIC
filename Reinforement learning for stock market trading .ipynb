{
 "cells": [
  {
   "cell_type": "code",
   "execution_count": 1,
   "metadata": {},
   "outputs": [],
   "source": [
    "import numpy as np\n",
    "import tensorflow as tf\n"
   ]
  },
  {
   "cell_type": "code",
   "execution_count": 2,
   "metadata": {},
   "outputs": [
    {
     "name": "stdout",
     "output_type": "stream",
     "text": [
      "Requirement already satisfied: pandas-datareader in d:\\anaconda\\envs\\playground\\lib\\site-packages (0.8.1)\n",
      "Requirement already satisfied: lxml in d:\\anaconda\\envs\\playground\\lib\\site-packages (from pandas-datareader) (4.4.2)\n",
      "Requirement already satisfied: pandas>=0.21 in d:\\anaconda\\envs\\playground\\lib\\site-packages (from pandas-datareader) (0.25.3)\n",
      "Requirement already satisfied: requests>=2.3.0 in d:\\anaconda\\envs\\playground\\lib\\site-packages (from pandas-datareader) (2.22.0)\n",
      "Requirement already satisfied: numpy>=1.13.3 in d:\\anaconda\\envs\\playground\\lib\\site-packages (from pandas>=0.21->pandas-datareader) (1.17.4)\n",
      "Requirement already satisfied: pytz>=2017.2 in d:\\anaconda\\envs\\playground\\lib\\site-packages (from pandas>=0.21->pandas-datareader) (2019.3)\n",
      "Requirement already satisfied: python-dateutil>=2.6.1 in d:\\anaconda\\envs\\playground\\lib\\site-packages (from pandas>=0.21->pandas-datareader) (2.8.1)\n",
      "Requirement already satisfied: chardet<3.1.0,>=3.0.2 in d:\\anaconda\\envs\\playground\\lib\\site-packages (from requests>=2.3.0->pandas-datareader) (3.0.4)\n",
      "Requirement already satisfied: certifi>=2017.4.17 in d:\\anaconda\\envs\\playground\\lib\\site-packages (from requests>=2.3.0->pandas-datareader) (2019.11.28)\n",
      "Requirement already satisfied: idna<2.9,>=2.5 in d:\\anaconda\\envs\\playground\\lib\\site-packages (from requests>=2.3.0->pandas-datareader) (2.8)\n",
      "Requirement already satisfied: urllib3!=1.25.0,!=1.25.1,<1.26,>=1.21.1 in d:\\anaconda\\envs\\playground\\lib\\site-packages (from requests>=2.3.0->pandas-datareader) (1.25.7)\n",
      "Requirement already satisfied: six>=1.5 in d:\\anaconda\\envs\\playground\\lib\\site-packages (from python-dateutil>=2.6.1->pandas>=0.21->pandas-datareader) (1.13.0)\n"
     ]
    }
   ],
   "source": [
    "!pip install pandas-datareader"
   ]
  },
  {
   "cell_type": "code",
   "execution_count": 3,
   "metadata": {},
   "outputs": [],
   "source": [
    "import math\n",
    "import random\n",
    "import pandas as pd\n",
    "import pandas_datareader as data_reader\n",
    "\n",
    "from tqdm import tqdm_notebook, tqdm\n",
    "from collections import deque"
   ]
  },
  {
   "cell_type": "markdown",
   "metadata": {},
   "source": [
    "# สร้าง โครงข่าย ai \n",
    "## อันดับแรก เราสร้าง class AI_trader () "
   ]
  },
  {
   "cell_type": "code",
   "execution_count": 4,
   "metadata": {},
   "outputs": [],
   "source": [
    "\n",
    "class AI_trader ():\n",
    "    \n",
    "    #function หลักของ คลาส \n",
    "    def __init__(self,state_size,action_num = 3,model_name=\"AItrader\"):#มีสาม การกระทำ หยุด ซื้อ ขาย\n",
    "        \n",
    "        self.state      = state_size        #กำหนดสเตดของคลาสนี้\n",
    "        self.action_num = action_num        #กำหนด จำนวนการกระทำ เท่ากับ 3 คือ หยุด ซื้อ ขาย\n",
    "        self.memory     = deque(maxlen=2000) #กำหนดให้ deque เมือ max length เท่ากับ 2000 หรือ กำหนดขนาดข้อมูล\n",
    "        self.inventory  = []                #กำหนด พื้นที่เก็บข้อมูล\n",
    "        self.model_name = model_name        #กำหนดชื่อโมเดล\n",
    "        \n",
    "        self.gamma = 0.95           #กำหนดการลด ค่า value  ของเส้นทาง เท่ากับ 0.05\n",
    "        self.epsilon = 1.0          #กำหนด ให้ระยะเริ่มแรก ทำ มั่วๆ ไป\n",
    "        self.epsilon_final = 0.01   #กำหนดให้ระยะหลัง เริ่มทำมั่วๆแค่ 10 %\n",
    "        self.epsilon_decay = 0.995  #กำหนดให้ลดการกระทำมั่ว ที่ ละ 0.995 * epsilon\n",
    "        \n",
    "        self.model = self.สร้างโมเดล() #ทำการ call function สร้างโมเดล() และ ประกาศ ตัวแปร model\n",
    "        \n",
    "    #function สำหรับ สร้าง โมเดลของ ai     \n",
    "    def สร้างโมเดล(self):\n",
    "        \n",
    "        model = tf.keras.models.Sequential()#ประกาศโมเดลแบบ ต่อเนื่องขึ้นมา (Sequential)\n",
    "        #เพิ่มชั้นเลเยอร์ ให้กับโมเดลโดยกำหนดให้รับ data มาจาก input เฉพาะ ชั้นแรก\n",
    "        model.add(tf.keras.layers.Dense(units=32, activation='relu', input_dim=self.state))\n",
    "        #เพิ่มชั้นเลเยอร์ ที่ 2 ให้กับโมเดล ให้ มีเซลเพิ่มขึ้น จาก 32 ไป 64 \n",
    "        model.add(tf.keras.layers.Dense(units=64, activation='relu'))\n",
    "        #เพิ่มชั้นเลเยอร์ ที่ 3 ให้กับโมเดล ให้ มีเซลเพิ่มขึ้น จาก 64 ไป 128 \n",
    "        model.add(tf.keras.layers.Dense(units=128, activation='relu'))\n",
    "        #เพิ่มชั้นเลเยอร์ตัวสุดท้ายสำหรับกำหนดการกระทำให้กับ bot  ซึ่ง มี สาม การกระทำ หยุด ซื้อ ขาย\n",
    "        model.add(tf.keras.layers.Dense(units=self.action_num , activation='linear'))\n",
    "        #ตัวคำนวณให้กับ โครงสร้างของโมเดล โดยให้ loss = mse  optimizers = adam โดยที่ learning rate(ความเร็วในการเรียรู้)= 0.001\n",
    "        model.compile(loss='mse', optimizer=tf.keras.optimizers.Adam(lr=0.001))          \n",
    "        \n",
    "        return model  #ส่งโมเดลกลับ\n",
    "    \n",
    "    \n",
    "    def เทรด(self,state):\n",
    "        #ในfunction นี้ เราจะทำการ รับ state และทำสิ่ง ต่างๆ(มีสาม การกระทำ หยุด ซื้อ ขาย) ตามที่ได้รับค่าstate มา \n",
    "        \n",
    "        #รับค่าสุ่มมาแล้ว ทำการ เทียบ ว่าน้อยกว่าหรือเท่ากับ ค่า  epsilon\n",
    "        if (random.random() <= self.epsilon) : #function random.random() ทำงานโดยส่งค่า floatกลับ มา  โดยค่านั้นจะอยู่ระหว่าง  [0.0, 1.0)  ::: รายละเอียดการทำงาน https://docs.python.org/3/library/random.html\n",
    "            return random.randrange(self.action_num)  #ส่งค่า สุ่มมา ในระหว่าง 0 ถึง 2 ซึ่งเป็นสาม ตัวเลข\n",
    "        \n",
    "        actions = self.model.predict(state)\n",
    "        return np.argmax(actions[0])\n",
    "    \n",
    "    def batch_train(self,ขนาด_batch): #function สำหรับ learning แบบ custom learning\n",
    "        batch =[]                     #อันดับแรกกำหนดให้ batch เป็นarray ค่าว่าง \n",
    "        for i in range(len(self.memory) - ขนาด_batch + 1,len(self.memory)):  #กำหนด i สำหรับ gradiet decent : อะไร คือ gradiet decent ???:; url:=:>>> https://machinelearningmastery.com/gradient-descent-for-machine-learning/\n",
    "            \n",
    "            batch.append(self.memory[i])  #นำเพิ่ม batch ใน memory ตำแหน่ง i  \n",
    "            \n",
    "        for state,action,reward,next_state,done in batch:  #กำหนด state,action,reward,next_state,done ให้อยู่ใน batch\n",
    "            reward = reward                                #update ค่า reward\n",
    "            if not done:\n",
    "                reward = reward + self.gamma * np.amax(self.model.predict(next_state)[0]) #update ค่า reward แต่อยู่ในเส้นทางอยู่ ยังไม่เสร็จสิ้น การเทรน batch นั้น\n",
    "                \n",
    "                \n",
    "            target = self.model.predict(state)              #กำหนดเป้าหมาย (เส้นชัย)\n",
    "            \n",
    "            target[0][action] = reward                      #update target \n",
    "            \n",
    "            self.model.fit(state,target,epochs=1,verbose=0) #เทรน โมเดล 1 เสต็ป สำหรับ batch นั้นๆ   \n",
    "            \n",
    "        if self.epsilon > self.epsilon_final:               #กำหนดให้ ลดการสุ่มการกระทำลง\n",
    "            \n",
    "            self.epsilon *= self.epsilon_decay\n",
    "        "
   ]
  },
  {
   "cell_type": "markdown",
   "metadata": {},
   "source": [
    "# สร้าง ฟังชั่นตัวช่วย "
   ]
  },
  {
   "cell_type": "code",
   "execution_count": 5,
   "metadata": {},
   "outputs": [],
   "source": [
    "\n",
    "def sigmoid(x):\n",
    "    return 1 / (1 + math.exp(-x))\n",
    "\n",
    "#Price format function\n",
    "def stocks_price_format(n): #return ค่า โดยเพิ่มว่าเป็นลบหรือบวก\n",
    "    if n < 0:\n",
    "        return \"- $ {0:2f}\".format(abs(n))\n",
    "\n",
    "    else:\n",
    "        return \"$ {0:2f}\".format(abs(n))\n",
    "    "
   ]
  },
  {
   "cell_type": "markdown",
   "metadata": {},
   "source": [
    "# ต่อไปเรามาสร้างฟังชั่นสำหรับโหลด ข้อมูลกันเถอะ"
   ]
  },
  {
   "cell_type": "code",
   "execution_count": 6,
   "metadata": {},
   "outputs": [],
   "source": [
    "def โหลดข้อมูล(ชื่อ_ข้อมูล):\n",
    "    dataset = data_reader.DataReader(ชื่อ_ข้อมูล,data_source=\"yahoo\") #กำหนดให้ ตัวแปร dataset เป็น ตัวอ่านข้อมูล\n",
    "    \n",
    "    start_date = str(dataset.index[0]).split()[0] #นำตัวอ่านข้อมูลมาอ่านข้อมูลวันแรกของด้าต้า แล้วนำมาใส่ตัวแปร start_date\n",
    "    end_date = str(dataset.index[-1]).split()[0]  #นำตัวอ่านข้อมูลมาอ่านข้อมูลวันสุดท้ายของด้าต้า แล้วนำมาใส่ตัวแปร end_date\n",
    "    \n",
    "    close = dataset['Close']\n",
    "    \n",
    "    return close\n",
    "    "
   ]
  },
  {
   "cell_type": "code",
   "execution_count": 7,
   "metadata": {},
   "outputs": [],
   "source": [
    "def state_creator(data,timestep,window_size):\n",
    "    \n",
    "    \n",
    "    starting_id = timestep - window_size + 1\n",
    "  \n",
    "    if starting_id >= 0:\n",
    "        windowed_data = data[starting_id:timestep+1]\n",
    "    else:\n",
    "        windowed_data = - starting_id * [data[0]] + list(data[0:timestep+1])\n",
    "    \n",
    "    state = []\n",
    "    for i in range(window_size - 1):\n",
    "        state.append(sigmoid(windowed_data[i+1] - windowed_data[i]))\n",
    "    \n",
    "    return np.array([state])\n",
    "    "
   ]
  },
  {
   "cell_type": "code",
   "execution_count": 8,
   "metadata": {},
   "outputs": [],
   "source": [
    "#มาโหลด data กันเถอะ\n",
    "\n",
    "stock_name = \"AAPL\"\n",
    "data = โหลดข้อมูล(stock_name)"
   ]
  },
  {
   "cell_type": "code",
   "execution_count": 9,
   "metadata": {},
   "outputs": [
    {
     "data": {
      "text/plain": [
       "Date\n",
       "2015-02-19    128.449997\n",
       "2015-02-20    129.500000\n",
       "2015-02-23    133.000000\n",
       "2015-02-24    132.169998\n",
       "2015-02-25    128.789993\n",
       "                 ...    \n",
       "2020-02-11    319.609985\n",
       "2020-02-12    327.200012\n",
       "2020-02-13    324.869995\n",
       "2020-02-14    324.950012\n",
       "2020-02-18    319.000000\n",
       "Name: Close, Length: 1258, dtype: float64"
      ]
     },
     "execution_count": 9,
     "metadata": {},
     "output_type": "execute_result"
    }
   ],
   "source": [
    "data"
   ]
  },
  {
   "cell_type": "markdown",
   "metadata": {},
   "source": [
    "## สร้างโมเดล"
   ]
  },
  {
   "cell_type": "code",
   "execution_count": 10,
   "metadata": {},
   "outputs": [],
   "source": [
    "#สร้างตัวแปร ที่จำเป็น    ( hyper parameter )\n",
    "window_size = 10\n",
    "episodes = 1000\n",
    "\n",
    "ขนาด_batch = 32\n",
    "data_samples = len(data) - 1"
   ]
  },
  {
   "cell_type": "code",
   "execution_count": 11,
   "metadata": {},
   "outputs": [],
   "source": [
    "#ประกาศโมเดล\n",
    "\n",
    "trader = AI_trader(window_size) #โมเดล ของเรา ชื่อ trader "
   ]
  },
  {
   "cell_type": "code",
   "execution_count": 12,
   "metadata": {},
   "outputs": [
    {
     "name": "stdout",
     "output_type": "stream",
     "text": [
      "Model: \"sequential\"\n",
      "_________________________________________________________________\n",
      "Layer (type)                 Output Shape              Param #   \n",
      "=================================================================\n",
      "dense (Dense)                (None, 32)                352       \n",
      "_________________________________________________________________\n",
      "dense_1 (Dense)              (None, 64)                2112      \n",
      "_________________________________________________________________\n",
      "dense_2 (Dense)              (None, 128)               8320      \n",
      "_________________________________________________________________\n",
      "dense_3 (Dense)              (None, 3)                 387       \n",
      "=================================================================\n",
      "Total params: 11,171\n",
      "Trainable params: 11,171\n",
      "Non-trainable params: 0\n",
      "_________________________________________________________________\n"
     ]
    }
   ],
   "source": [
    "trader.model.summary()"
   ]
  },
  {
   "cell_type": "markdown",
   "metadata": {},
   "source": [
    "# สร้าง วงจรการ ฝึกของ a.i."
   ]
  },
  {
   "cell_type": "code",
   "execution_count": null,
   "metadata": {},
   "outputs": [
    {
     "name": "stderr",
     "output_type": "stream",
     "text": [
      "\r",
      "  0%|                                                                                         | 0/1257 [00:00<?, ?it/s]"
     ]
    },
    {
     "name": "stdout",
     "output_type": "stream",
     "text": [
      "Episode : 1/1\n",
      "AI trader ได้ทำการ ซื้อจำนวน :  $ 129.500000\n",
      "AI trader ได้ทำการ ซื้อจำนวน :  $ 133.000000\n",
      "AI trader ได้ทำการ ขายจำนวน :  $ 132.169998 กำไร : $ 2.669998\n",
      "AI trader ได้ทำการ ซื้อจำนวน :  $ 128.789993\n",
      "AI trader ได้ทำการ ขายจำนวน :  $ 130.419998 กำไร : - $ 2.580002\n",
      "AI trader ได้ทำการ ซื้อจำนวน :  $ 128.460007\n",
      "AI trader ได้ทำการ ขายจำนวน :  $ 128.539993 กำไร : - $ 0.250000\n",
      "AI trader ได้ทำการ ซื้อจำนวน :  $ 126.410004\n",
      "AI trader ได้ทำการ ซื้อจำนวน :  $ 126.599998\n",
      "AI trader ได้ทำการ ซื้อจำนวน :  $ 127.139999\n",
      "AI trader ได้ทำการ ซื้อจำนวน :  $ 122.239998\n",
      "AI trader ได้ทำการ ขายจำนวน :  $ 124.449997 กำไร : - $ 4.010010\n",
      "AI trader ได้ทำการ ขายจำนวน :  $ 123.589996 กำไร : - $ 2.820007\n",
      "AI trader ได้ทำการ ซื้อจำนวน :  $ 128.470001\n",
      "AI trader ได้ทำการ ซื้อจำนวน :  $ 127.500000\n",
      "AI trader ได้ทำการ ซื้อจำนวน :  $ 125.900002\n",
      "AI trader ได้ทำการ ขายจำนวน :  $ 123.250000 กำไร : - $ 3.349998\n",
      "AI trader ได้ทำการ ซื้อจำนวน :  $ 126.370003\n",
      "AI trader ได้ทำการ ซื้อจำนวน :  $ 124.250000\n"
     ]
    },
    {
     "name": "stderr",
     "output_type": "stream",
     "text": [
      "  3%|██▏                                                                             | 34/1257 [00:08<23:31,  1.15s/it]"
     ]
    },
    {
     "name": "stdout",
     "output_type": "stream",
     "text": [
      "AI trader ได้ทำการ ซื้อจำนวน :  $ 126.559998\n"
     ]
    },
    {
     "name": "stderr",
     "output_type": "stream",
     "text": [
      "  3%|██▎                                                                             | 37/1257 [00:17<48:51,  2.40s/it]"
     ]
    },
    {
     "name": "stdout",
     "output_type": "stream",
     "text": [
      "AI trader ได้ทำการ ขายจำนวน :  $ 126.300003 กำไร : - $ 0.839996\n"
     ]
    },
    {
     "name": "stderr",
     "output_type": "stream",
     "text": [
      "\r",
      "  3%|██▍                                                                             | 38/1257 [00:21<55:00,  2.71s/it]"
     ]
    },
    {
     "name": "stdout",
     "output_type": "stream",
     "text": [
      "AI trader ได้ทำการ ซื้อจำนวน :  $ 126.779999\n"
     ]
    },
    {
     "name": "stderr",
     "output_type": "stream",
     "text": [
      "\r",
      "  3%|██▍                                                                           | 39/1257 [00:24<1:01:06,  3.01s/it]"
     ]
    },
    {
     "name": "stdout",
     "output_type": "stream",
     "text": [
      "AI trader ได้ทำการ ขายจำนวน :  $ 126.169998 กำไร : $ 3.930000\n"
     ]
    },
    {
     "name": "stderr",
     "output_type": "stream",
     "text": [
      "  3%|██▌                                                                           | 41/1257 [00:32<1:08:58,  3.40s/it]"
     ]
    },
    {
     "name": "stdout",
     "output_type": "stream",
     "text": [
      "AI trader ได้ทำการ ขายจำนวน :  $ 127.599998 กำไร : - $ 0.870003\n"
     ]
    },
    {
     "name": "stderr",
     "output_type": "stream",
     "text": [
      "  3%|██▋                                                                           | 43/1257 [00:39<1:09:21,  3.43s/it]"
     ]
    },
    {
     "name": "stdout",
     "output_type": "stream",
     "text": [
      "AI trader ได้ทำการ ซื้อจำนวน :  $ 128.619995\n"
     ]
    },
    {
     "name": "stderr",
     "output_type": "stream",
     "text": [
      "\r",
      "  4%|██▋                                                                           | 44/1257 [00:42<1:05:44,  3.25s/it]"
     ]
    },
    {
     "name": "stdout",
     "output_type": "stream",
     "text": [
      "AI trader ได้ทำการ ขายจำนวน :  $ 129.669998 กำไร : $ 2.169998\n"
     ]
    },
    {
     "name": "stderr",
     "output_type": "stream",
     "text": [
      "\r",
      "  4%|██▊                                                                           | 45/1257 [00:46<1:09:10,  3.42s/it]"
     ]
    },
    {
     "name": "stdout",
     "output_type": "stream",
     "text": [
      "AI trader ได้ทำการ ขายจำนวน :  $ 130.279999 กำไร : $ 4.379997\n"
     ]
    },
    {
     "name": "stderr",
     "output_type": "stream",
     "text": [
      "  4%|██▉                                                                           | 48/1257 [00:56<1:09:28,  3.45s/it]"
     ]
    },
    {
     "name": "stdout",
     "output_type": "stream",
     "text": [
      "AI trader ได้ทำการ ซื้อจำนวน :  $ 128.639999\n"
     ]
    },
    {
     "name": "stderr",
     "output_type": "stream",
     "text": [
      "\r",
      "  4%|███                                                                           | 49/1257 [00:59<1:06:05,  3.28s/it]"
     ]
    },
    {
     "name": "stdout",
     "output_type": "stream",
     "text": [
      "AI trader ได้ทำการ ขายจำนวน :  $ 125.150002 กำไร : - $ 1.220001\n"
     ]
    },
    {
     "name": "stderr",
     "output_type": "stream",
     "text": [
      "\r",
      "  4%|███                                                                           | 50/1257 [01:02<1:03:37,  3.16s/it]"
     ]
    },
    {
     "name": "stdout",
     "output_type": "stream",
     "text": [
      "AI trader ได้ทำการ ขายจำนวน :  $ 128.949997 กำไร : $ 4.699997\n"
     ]
    },
    {
     "name": "stderr",
     "output_type": "stream",
     "text": [
      "\r",
      "  4%|███▏                                                                          | 51/1257 [01:04<1:01:03,  3.04s/it]"
     ]
    },
    {
     "name": "stdout",
     "output_type": "stream",
     "text": [
      "AI trader ได้ทำการ ซื้อจำนวน :  $ 128.699997\n"
     ]
    },
    {
     "name": "stderr",
     "output_type": "stream",
     "text": [
      "  4%|███▎                                                                          | 53/1257 [01:11<1:04:07,  3.20s/it]"
     ]
    },
    {
     "name": "stdout",
     "output_type": "stream",
     "text": [
      "AI trader ได้ทำการ ซื้อจำนวน :  $ 125.010002\n"
     ]
    },
    {
     "name": "stderr",
     "output_type": "stream",
     "text": [
      "  5%|███▋                                                                          | 59/1257 [01:31<1:04:54,  3.25s/it]"
     ]
    },
    {
     "name": "stdout",
     "output_type": "stream",
     "text": [
      "AI trader ได้ทำการ ขายจำนวน :  $ 128.949997 กำไร : $ 2.389999\n"
     ]
    },
    {
     "name": "stderr",
     "output_type": "stream",
     "text": [
      "  5%|███▉                                                                            | 62/1257 [01:40<59:59,  3.01s/it]"
     ]
    },
    {
     "name": "stdout",
     "output_type": "stream",
     "text": [
      "AI trader ได้ทำการ ซื้อจำนวน :  $ 130.070007\n"
     ]
    },
    {
     "name": "stderr",
     "output_type": "stream",
     "text": [
      "\r",
      "  5%|███▉                                                                          | 63/1257 [01:44<1:07:50,  3.41s/it]"
     ]
    },
    {
     "name": "stdout",
     "output_type": "stream",
     "text": [
      "AI trader ได้ทำการ ขายจำนวน :  $ 130.059998 กำไร : $ 3.279999\n"
     ]
    },
    {
     "name": "stderr",
     "output_type": "stream",
     "text": [
      "  5%|████                                                                          | 65/1257 [01:50<1:00:07,  3.03s/it]"
     ]
    },
    {
     "name": "stdout",
     "output_type": "stream",
     "text": [
      "AI trader ได้ทำการ ซื้อจำนวน :  $ 132.539993\n"
     ]
    },
    {
     "name": "stderr",
     "output_type": "stream",
     "text": [
      "\r",
      "  5%|████▏                                                                           | 66/1257 [01:52<57:45,  2.91s/it]"
     ]
    },
    {
     "name": "stdout",
     "output_type": "stream",
     "text": [
      "AI trader ได้ทำการ ซื้อจำนวน :  $ 129.619995\n"
     ]
    },
    {
     "name": "stderr",
     "output_type": "stream",
     "text": [
      "  5%|████▎                                                                           | 68/1257 [01:58<55:16,  2.79s/it]"
     ]
    },
    {
     "name": "stdout",
     "output_type": "stream",
     "text": [
      "AI trader ได้ทำการ ขายจำนวน :  $ 131.779999 กำไร : $ 3.160004\n"
     ]
    },
    {
     "name": "stderr",
     "output_type": "stream",
     "text": [
      "  6%|████▍                                                                           | 70/1257 [02:04<59:24,  3.00s/it]"
     ]
    },
    {
     "name": "stdout",
     "output_type": "stream",
     "text": [
      "AI trader ได้ทำการ ซื้อจำนวน :  $ 130.539993\n"
     ]
    },
    {
     "name": "stderr",
     "output_type": "stream",
     "text": [
      "\r",
      "  6%|████▍                                                                         | 71/1257 [02:09<1:10:41,  3.58s/it]"
     ]
    },
    {
     "name": "stdout",
     "output_type": "stream",
     "text": [
      "AI trader ได้ทำการ ซื้อจำนวน :  $ 129.960007\n"
     ]
    },
    {
     "name": "stderr",
     "output_type": "stream",
     "text": [
      "\r",
      "  6%|████▍                                                                         | 72/1257 [02:12<1:07:42,  3.43s/it]"
     ]
    },
    {
     "name": "stdout",
     "output_type": "stream",
     "text": [
      "AI trader ได้ทำการ ซื้อจำนวน :  $ 130.119995\n"
     ]
    },
    {
     "name": "stderr",
     "output_type": "stream",
     "text": [
      "\r",
      "  6%|████▌                                                                         | 73/1257 [02:16<1:07:44,  3.43s/it]"
     ]
    },
    {
     "name": "stdout",
     "output_type": "stream",
     "text": [
      "AI trader ได้ทำการ ซื้อจำนวน :  $ 129.360001\n"
     ]
    },
    {
     "name": "stderr",
     "output_type": "stream",
     "text": [
      "  6%|████▋                                                                         | 75/1257 [02:22<1:06:09,  3.36s/it]"
     ]
    },
    {
     "name": "stdout",
     "output_type": "stream",
     "text": [
      "AI trader ได้ทำการ ซื้อจำนวน :  $ 127.800003\n"
     ]
    },
    {
     "name": "stderr",
     "output_type": "stream",
     "text": [
      "  6%|████▉                                                                           | 78/1257 [02:31<58:58,  3.00s/it]"
     ]
    },
    {
     "name": "stdout",
     "output_type": "stream",
     "text": [
      "AI trader ได้ทำการ ขายจำนวน :  $ 128.589996 กำไร : - $ 0.050003\n"
     ]
    },
    {
     "name": "stderr",
     "output_type": "stream",
     "text": [
      "\r",
      "  6%|████▉                                                                         | 79/1257 [02:34<1:03:08,  3.22s/it]"
     ]
    },
    {
     "name": "stdout",
     "output_type": "stream",
     "text": [
      "AI trader ได้ทำการ ขายจำนวน :  $ 127.169998 กำไร : - $ 1.529999\n"
     ]
    },
    {
     "name": "stderr",
     "output_type": "stream",
     "text": [
      "  6%|█████                                                                         | 81/1257 [02:49<1:35:17,  4.86s/it]"
     ]
    },
    {
     "name": "stdout",
     "output_type": "stream",
     "text": [
      "AI trader ได้ทำการ ขายจำนวน :  $ 127.599998 กำไร : $ 2.589996\n"
     ]
    },
    {
     "name": "stderr",
     "output_type": "stream",
     "text": [
      "\r",
      "  7%|█████                                                                         | 82/1257 [02:52<1:24:35,  4.32s/it]"
     ]
    },
    {
     "name": "stdout",
     "output_type": "stream",
     "text": [
      "AI trader ได้ทำการ ขายจำนวน :  $ 127.300003 กำไร : - $ 2.770004\n"
     ]
    },
    {
     "name": "stderr",
     "output_type": "stream",
     "text": [
      "\r",
      "  7%|█████▏                                                                        | 83/1257 [02:56<1:22:10,  4.20s/it]"
     ]
    },
    {
     "name": "stdout",
     "output_type": "stream",
     "text": [
      "AI trader ได้ทำการ ซื้อจำนวน :  $ 127.879997\n"
     ]
    },
    {
     "name": "stderr",
     "output_type": "stream",
     "text": [
      "\r",
      "  7%|█████▏                                                                        | 84/1257 [02:59<1:18:18,  4.01s/it]"
     ]
    },
    {
     "name": "stdout",
     "output_type": "stream",
     "text": [
      "AI trader ได้ทำการ ขายจำนวน :  $ 126.599998 กำไร : - $ 5.939995\n"
     ]
    },
    {
     "name": "stderr",
     "output_type": "stream",
     "text": [
      "  7%|█████▎                                                                        | 86/1257 [03:11<1:37:59,  5.02s/it]"
     ]
    },
    {
     "name": "stdout",
     "output_type": "stream",
     "text": [
      "AI trader ได้ทำการ ขายจำนวน :  $ 127.029999 กำไร : - $ 2.589996\n"
     ]
    },
    {
     "name": "stderr",
     "output_type": "stream",
     "text": [
      "\r",
      "  7%|█████▍                                                                        | 87/1257 [03:16<1:40:09,  5.14s/it]"
     ]
    },
    {
     "name": "stdout",
     "output_type": "stream",
     "text": [
      "AI trader ได้ทำการ ขายจำนวน :  $ 128.110001 กำไร : - $ 2.429993\n"
     ]
    },
    {
     "name": "stderr",
     "output_type": "stream",
     "text": [
      "\r",
      "  7%|█████▍                                                                        | 88/1257 [03:22<1:43:24,  5.31s/it]"
     ]
    },
    {
     "name": "stdout",
     "output_type": "stream",
     "text": [
      "AI trader ได้ทำการ ซื้อจำนวน :  $ 127.500000\n"
     ]
    },
    {
     "name": "stderr",
     "output_type": "stream",
     "text": [
      "\r",
      "  7%|█████▌                                                                        | 89/1257 [03:27<1:43:28,  5.32s/it]"
     ]
    },
    {
     "name": "stdout",
     "output_type": "stream",
     "text": [
      "AI trader ได้ทำการ ขายจำนวน :  $ 126.750000 กำไร : - $ 3.210007\n"
     ]
    },
    {
     "name": "stderr",
     "output_type": "stream",
     "text": [
      "\r",
      "  7%|█████▌                                                                        | 90/1257 [03:32<1:41:31,  5.22s/it]"
     ]
    },
    {
     "name": "stdout",
     "output_type": "stream",
     "text": [
      "AI trader ได้ทำการ ซื้อจำนวน :  $ 124.529999\n"
     ]
    },
    {
     "name": "stderr",
     "output_type": "stream",
     "text": [
      "  7%|█████▋                                                                        | 92/1257 [03:58<2:41:10,  8.30s/it]"
     ]
    },
    {
     "name": "stdout",
     "output_type": "stream",
     "text": [
      "AI trader ได้ทำการ ซื้อจำนวน :  $ 126.599998\n"
     ]
    },
    {
     "name": "stderr",
     "output_type": "stream",
     "text": [
      "\r",
      "  7%|█████▊                                                                        | 93/1257 [04:01<2:10:45,  6.74s/it]"
     ]
    },
    {
     "name": "stdout",
     "output_type": "stream",
     "text": [
      "AI trader ได้ทำการ ขายจำนวน :  $ 126.440002 กำไร : - $ 3.679993\n"
     ]
    },
    {
     "name": "stderr",
     "output_type": "stream",
     "text": [
      "  8%|█████▉                                                                        | 95/1257 [04:07<1:34:06,  4.86s/it]"
     ]
    },
    {
     "name": "stdout",
     "output_type": "stream",
     "text": [
      "AI trader ได้ทำการ ขายจำนวน :  $ 125.690002 กำไร : - $ 3.669998\n"
     ]
    },
    {
     "name": "stderr",
     "output_type": "stream",
     "text": [
      "\r",
      "  8%|█████▉                                                                        | 96/1257 [04:12<1:31:39,  4.74s/it]"
     ]
    },
    {
     "name": "stdout",
     "output_type": "stream",
     "text": [
      "AI trader ได้ทำการ ขายจำนวน :  $ 122.570000 กำไร : - $ 5.230003\n"
     ]
    },
    {
     "name": "stderr",
     "output_type": "stream",
     "text": [
      "\r",
      "  8%|██████                                                                        | 97/1257 [04:15<1:21:00,  4.19s/it]"
     ]
    },
    {
     "name": "stdout",
     "output_type": "stream",
     "text": [
      "AI trader ได้ทำการ ขายจำนวน :  $ 120.070000 กำไร : - $ 7.809998\n"
     ]
    },
    {
     "name": "stderr",
     "output_type": "stream",
     "text": [
      "\r",
      "  8%|██████                                                                        | 98/1257 [04:18<1:15:14,  3.90s/it]"
     ]
    },
    {
     "name": "stdout",
     "output_type": "stream",
     "text": [
      "AI trader ได้ทำการ ขายจำนวน :  $ 123.279999 กำไร : - $ 4.220001\n"
     ]
    },
    {
     "name": "stderr",
     "output_type": "stream",
     "text": [
      "\r",
      "  8%|██████▏                                                                       | 99/1257 [04:21<1:09:04,  3.58s/it]"
     ]
    },
    {
     "name": "stdout",
     "output_type": "stream",
     "text": [
      "AI trader ได้ทำการ ขายจำนวน :  $ 125.660004 กำไร : $ 1.130005\n"
     ]
    },
    {
     "name": "stderr",
     "output_type": "stream",
     "text": [
      "  8%|██████▎                                                                      | 104/1257 [04:37<1:02:20,  3.24s/it]"
     ]
    },
    {
     "name": "stdout",
     "output_type": "stream",
     "text": [
      "AI trader ได้ทำการ ซื้อจำนวน :  $ 132.070007\n"
     ]
    },
    {
     "name": "stderr",
     "output_type": "stream",
     "text": [
      "  8%|██████▍                                                                      | 106/1257 [06:50<9:43:08, 30.40s/it]"
     ]
    },
    {
     "name": "stdout",
     "output_type": "stream",
     "text": [
      "AI trader ได้ทำการ ขายจำนวน :  $ 125.220001 กำไร : - $ 1.379997\n"
     ]
    },
    {
     "name": "stderr",
     "output_type": "stream",
     "text": [
      "\r",
      "  9%|██████▌                                                                      | 107/1257 [07:00<7:42:33, 24.13s/it]"
     ]
    },
    {
     "name": "stdout",
     "output_type": "stream",
     "text": [
      "AI trader ได้ทำการ ขายจำนวน :  $ 125.160004 กำไร : - $ 6.910004\n"
     ]
    },
    {
     "name": "stderr",
     "output_type": "stream",
     "text": [
      "\r",
      "  9%|██████▌                                                                      | 108/1257 [07:12<6:37:36, 20.76s/it]"
     ]
    },
    {
     "name": "stdout",
     "output_type": "stream",
     "text": [
      "AI trader ได้ทำการ ซื้อจำนวน :  $ 124.500000\n"
     ]
    },
    {
     "name": "stderr",
     "output_type": "stream",
     "text": [
      "  9%|███████▏                                                                     | 117/1257 [11:20<9:29:08, 29.96s/it]"
     ]
    },
    {
     "name": "stdout",
     "output_type": "stream",
     "text": [
      "AI trader ได้ทำการ ซื้อจำนวน :  $ 115.129997\n"
     ]
    },
    {
     "name": "stderr",
     "output_type": "stream",
     "text": [
      "\r",
      "  9%|███████▏                                                                     | 118/1257 [11:37<8:19:10, 26.30s/it]"
     ]
    },
    {
     "name": "stdout",
     "output_type": "stream",
     "text": [
      "AI trader ได้ทำการ ซื้อจำนวน :  $ 115.519997\n"
     ]
    },
    {
     "name": "stderr",
     "output_type": "stream",
     "text": [
      "\r",
      "  9%|███████▎                                                                     | 119/1257 [11:53<7:17:08, 23.05s/it]"
     ]
    },
    {
     "name": "stdout",
     "output_type": "stream",
     "text": [
      "AI trader ได้ทำการ ซื้อจำนวน :  $ 119.720001\n"
     ]
    },
    {
     "name": "stderr",
     "output_type": "stream",
     "text": [
      "\r",
      " 10%|███████▎                                                                     | 120/1257 [12:01<5:51:39, 18.56s/it]"
     ]
    },
    {
     "name": "stdout",
     "output_type": "stream",
     "text": [
      "AI trader ได้ทำการ ขายจำนวน :  $ 113.489998 กำไร : - $ 11.010002\n"
     ]
    },
    {
     "name": "stderr",
     "output_type": "stream",
     "text": [
      "\r",
      " 10%|███████▍                                                                     | 121/1257 [12:07<4:39:37, 14.77s/it]"
     ]
    }
   ],
   "source": [
    "for episodes in range(1, episodes + 1) :\n",
    "    print(\"Episode : {}/{}\".format(episodes,episodes))\n",
    "    \n",
    "    state= state_creator(data, 0 , window_size + 1)\n",
    "    \n",
    "    \n",
    "    กำไรรวม = 0\n",
    "    trader.inventory=[]\n",
    "    \n",
    "    for t in tqdm(range(data_samples)):\n",
    "        \n",
    "        action= trader.เทรด(state)\n",
    "        \n",
    "        next_state = state_creator(data, t+1 , window_size+1)\n",
    "        \n",
    "        reward=0\n",
    "        \n",
    "        if action == 1 :\n",
    "            trader.inventory.append(data[t])\n",
    "            print(\"AI trader ได้ทำการ ซื้อจำนวน : \",stocks_price_format(data[t]))\n",
    "            \n",
    "            \n",
    "            \n",
    "        elif action == 2 and len(trader.inventory) > 0 :\n",
    "            ราคาซื้อ = trader.inventory.pop(0)\n",
    "            \n",
    "            reward = max(data[t]- ราคาซื้อ, 0)\n",
    "            \n",
    "            กำไรรวม += data[t]- ราคาซื้อ\n",
    "            print(\"AI trader ได้ทำการ ขายจำนวน : \",stocks_price_format(data[t]),\n",
    "                  \"กำไร : \" + stocks_price_format(data[t] - ราคาซื้อ))\n",
    "        \n",
    "        if t == data_samples - 1:\n",
    "            done = True\n",
    "        else:\n",
    "            done = False\n",
    "        \n",
    "        trader.memory.append((state,action , reward , next_state ,done))\n",
    "        state = next_state\n",
    "        \n",
    "        if done:\n",
    "            print(\"########################\")\n",
    "            print(\"เงินที่เหลือทั้งหมด: {}\".format(เงินที่เหลือ))\n",
    "            print(\"########################\")\n",
    "        \n",
    "        if len(trader.memory) > ขนาด_batch :\n",
    "            trader.batch_train(ขนาด_batch)\n",
    "            \n",
    "    if episodes % 10 == 0 :\n",
    "        trader.model.save(\"ai_trader_{}.h5\".format(episodes))\n",
    "        \n",
    "        \n",
    "            \n",
    "            "
   ]
  },
  {
   "cell_type": "code",
   "execution_count": null,
   "metadata": {},
   "outputs": [],
   "source": []
  }
 ],
 "metadata": {
  "kernelspec": {
   "display_name": "Python 3",
   "language": "python",
   "name": "python3"
  },
  "language_info": {
   "codemirror_mode": {
    "name": "ipython",
    "version": 3
   },
   "file_extension": ".py",
   "mimetype": "text/x-python",
   "name": "python",
   "nbconvert_exporter": "python",
   "pygments_lexer": "ipython3",
   "version": "3.7.5"
  }
 },
 "nbformat": 4,
 "nbformat_minor": 2
}
