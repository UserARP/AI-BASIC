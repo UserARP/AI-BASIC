{
 "cells": [
  {
   "cell_type": "code",
   "execution_count": 1,
   "metadata": {},
   "outputs": [],
   "source": [
    "import time #ใช้สำหรับ เป็นตัววัดว่า อันไหนไวกว่ากัน\n",
    "import numpy as np\n",
    "import tensorflow as tf"
   ]
  },
  {
   "cell_type": "code",
   "execution_count": 2,
   "metadata": {},
   "outputs": [],
   "source": [
    "#load data และเก็บเข้าตัวแปร\n",
    "(X_train,y_train),(X_test,y_test) = tf.keras.datasets.mnist.load_data() \n"
   ]
  },
  {
   "cell_type": "code",
   "execution_count": 3,
   "metadata": {},
   "outputs": [],
   "source": [
    "#normallize data\n",
    "X_train = X_train / 255.0\n",
    "X_test = X_test / 255.0"
   ]
  },
  {
   "cell_type": "code",
   "execution_count": 4,
   "metadata": {},
   "outputs": [
    {
     "data": {
      "text/plain": [
       "(60000, 28, 28)"
      ]
     },
     "execution_count": 4,
     "metadata": {},
     "output_type": "execute_result"
    }
   ],
   "source": [
    "#ดูขนาดมัน\n",
    "X_train.shape"
   ]
  },
  {
   "cell_type": "code",
   "execution_count": 5,
   "metadata": {},
   "outputs": [],
   "source": [
    "#แปลงขนาดมัน\n",
    "X_train = X_train.reshape(-1,28*28)\n",
    "X_test= X_test.reshape(-1,28*28)"
   ]
  },
  {
   "cell_type": "code",
   "execution_count": 6,
   "metadata": {},
   "outputs": [
    {
     "data": {
      "text/plain": [
       "(60000, 784)"
      ]
     },
     "execution_count": 6,
     "metadata": {},
     "output_type": "execute_result"
    }
   ],
   "source": [
    "#ดูขนาดมันอีกที่ว่าได้แปลงรึยัง\n",
    "X_train.shape"
   ]
  },
  {
   "cell_type": "markdown",
   "metadata": {},
   "source": [
    "# เนื่องจากนี้จะเป็นการทดสอบประสิืทธิภาพของ distributed training\n",
    "## จึงจะทำการสร้างโมเดลสองรูปแบบ แบบธรรมดา และ แบบ distributed"
   ]
  },
  {
   "cell_type": "code",
   "execution_count": 9,
   "metadata": {},
   "outputs": [],
   "source": [
    "##แบบธรรมดา\n",
    "\n",
    "normal_model = tf.keras.models.Sequential()\n"
   ]
  },
  {
   "cell_type": "code",
   "execution_count": 11,
   "metadata": {},
   "outputs": [],
   "source": [
    "#add layer ตามปกติ\n",
    "normal_model.add(tf.keras.layers.Dense(units=128, activation='relu', input_shape=(784,)))\n",
    "normal_model.add(tf.keras.layers.Dropout(rate=0.2))\n",
    "normal_model.add(tf.keras.layers.Dense(units=10, activation='softmax'))\n",
    "normal_model.compile(optimizer='adam', loss='sparse_categorical_crossentropy', metrics=['sparse_categorical_accuracy'])"
   ]
  },
  {
   "cell_type": "code",
   "execution_count": 12,
   "metadata": {},
   "outputs": [],
   "source": [
    "#สร้างตัวแปร distubuted และกำหนด แผนการ distubuted โดยกรณีนี้เราเลือก แบบ mirror distubuted\n",
    "distribute = tf.distribute.MirroredStrategy()"
   ]
  },
  {
   "cell_type": "code",
   "execution_count": 13,
   "metadata": {},
   "outputs": [
    {
     "name": "stdout",
     "output_type": "stream",
     "text": [
      "INFO:tensorflow:Reduce to /job:localhost/replica:0/task:0/device:CPU:0 then broadcast to ('/job:localhost/replica:0/task:0/device:CPU:0',).\n",
      "INFO:tensorflow:Reduce to /job:localhost/replica:0/task:0/device:CPU:0 then broadcast to ('/job:localhost/replica:0/task:0/device:CPU:0',).\n"
     ]
    }
   ],
   "source": [
    "with distribute.scope():\n",
    "    \n",
    "    model_distributed = tf.keras.models.Sequential()\n",
    "    model_distributed.add(tf.keras.layers.Dense(units=128, activation='relu', input_shape=(784,)))\n",
    "    model_distributed.add(tf.keras.layers.Dropout(rate=0.2))\n",
    "    model_distributed.add(tf.keras.layers.Dense(units=10, activation='softmax'))\n",
    "    model_distributed.compile(optimizer='adam', loss='sparse_categorical_crossentropy', metrics=['sparse_categorical_accuracy'])"
   ]
  },
  {
   "cell_type": "code",
   "execution_count": 14,
   "metadata": {},
   "outputs": [
    {
     "name": "stdout",
     "output_type": "stream",
     "text": [
      "Train on 60000 samples\n",
      "Epoch 1/10\n",
      "INFO:tensorflow:Reduce to /job:localhost/replica:0/task:0/device:CPU:0 then broadcast to ('/job:localhost/replica:0/task:0/device:CPU:0',).\n",
      "INFO:tensorflow:Reduce to /job:localhost/replica:0/task:0/device:CPU:0 then broadcast to ('/job:localhost/replica:0/task:0/device:CPU:0',).\n",
      "INFO:tensorflow:Reduce to /job:localhost/replica:0/task:0/device:CPU:0 then broadcast to ('/job:localhost/replica:0/task:0/device:CPU:0',).\n",
      "INFO:tensorflow:Reduce to /job:localhost/replica:0/task:0/device:CPU:0 then broadcast to ('/job:localhost/replica:0/task:0/device:CPU:0',).\n",
      "60000/60000 [==============================] - 9s 142us/sample - loss: 0.2822 - sparse_categorical_accuracy: 0.9183\n",
      "Epoch 2/10\n",
      "60000/60000 [==============================] - 5s 82us/sample - loss: 0.1369 - sparse_categorical_accuracy: 0.9588\n",
      "Epoch 3/10\n",
      "60000/60000 [==============================] - 5s 84us/sample - loss: 0.1044 - sparse_categorical_accuracy: 0.9678\n",
      "Epoch 4/10\n",
      "60000/60000 [==============================] - 5s 85us/sample - loss: 0.0855 - sparse_categorical_accuracy: 0.9731\n",
      "Epoch 5/10\n",
      "60000/60000 [==============================] - 5s 86us/sample - loss: 0.0739 - sparse_categorical_accuracy: 0.9770\n",
      "Epoch 6/10\n",
      "60000/60000 [==============================] - 5s 90us/sample - loss: 0.0637 - sparse_categorical_accuracy: 0.9792\n",
      "Epoch 7/10\n",
      "60000/60000 [==============================] - 5s 89us/sample - loss: 0.0553 - sparse_categorical_accuracy: 0.9820\n",
      "Epoch 8/10\n",
      "60000/60000 [==============================] - 5s 88us/sample - loss: 0.0516 - sparse_categorical_accuracy: 0.9834\n",
      "Epoch 9/10\n",
      "60000/60000 [==============================] - 5s 91us/sample - loss: 0.0477 - sparse_categorical_accuracy: 0.9840\n",
      "Epoch 10/10\n",
      "60000/60000 [==============================] - 5s 81us/sample - loss: 0.0438 - sparse_categorical_accuracy: 0.9855\n",
      "Distributed training took: 56.143563985824585\n"
     ]
    }
   ],
   "source": [
    "#ทดสอบ\n",
    "start_time = time.time()\n",
    "model_distributed.fit(X_train, y_train, epochs=10, batch_size=25)\n",
    "print(\"Distributed training took: {} sec\".format(time.time() - start_time))"
   ]
  },
  {
   "cell_type": "code",
   "execution_count": 16,
   "metadata": {},
   "outputs": [
    {
     "name": "stdout",
     "output_type": "stream",
     "text": [
      "Train on 60000 samples\n",
      "Epoch 1/10\n",
      "60000/60000 [==============================] - 5s 78us/sample - loss: 0.2866 - sparse_categorical_accuracy: 0.9156\n",
      "Epoch 2/10\n",
      "60000/60000 [==============================] - 4s 73us/sample - loss: 0.1375 - sparse_categorical_accuracy: 0.9597\n",
      "Epoch 3/10\n",
      "60000/60000 [==============================] - 4s 73us/sample - loss: 0.1033 - sparse_categorical_accuracy: 0.9683\n",
      "Epoch 4/10\n",
      "60000/60000 [==============================] - 4s 72us/sample - loss: 0.0850 - sparse_categorical_accuracy: 0.9740\n",
      "Epoch 5/10\n",
      "60000/60000 [==============================] - 4s 73us/sample - loss: 0.0723 - sparse_categorical_accuracy: 0.9770\n",
      "Epoch 6/10\n",
      "60000/60000 [==============================] - 4s 72us/sample - loss: 0.0665 - sparse_categorical_accuracy: 0.9789\n",
      "Epoch 7/10\n",
      "60000/60000 [==============================] - 4s 72us/sample - loss: 0.0568 - sparse_categorical_accuracy: 0.9812\n",
      "Epoch 8/10\n",
      "60000/60000 [==============================] - 4s 72us/sample - loss: 0.0516 - sparse_categorical_accuracy: 0.9832\n",
      "Epoch 9/10\n",
      "60000/60000 [==============================] - 4s 71us/sample - loss: 0.0475 - sparse_categorical_accuracy: 0.9845\n",
      "Epoch 10/10\n",
      "60000/60000 [==============================] - 4s 73us/sample - loss: 0.0443 - sparse_categorical_accuracy: 0.9853\n",
      "Normal training took: 43.76693081855774\n"
     ]
    }
   ],
   "source": [
    "start_time = time.time()\n",
    "normal_model.fit(X_train, y_train, epochs=10, batch_size=25)\n",
    "print(\"Normal training took: {} sec\".format(time.time() - start_time))"
   ]
  },
  {
   "cell_type": "code",
   "execution_count": null,
   "metadata": {},
   "outputs": [],
   "source": [
    "#เหตุผลที่ แบบ distubuted ช้ากว่าเนื่องจาก การเทรน แบบ distubuted นั้นเหมาะกับ GPU (หลายตัวด้วย)  "
   ]
  }
 ],
 "metadata": {
  "kernelspec": {
   "display_name": "Python 3",
   "language": "python",
   "name": "python3"
  },
  "language_info": {
   "codemirror_mode": {
    "name": "ipython",
    "version": 3
   },
   "file_extension": ".py",
   "mimetype": "text/x-python",
   "name": "python",
   "nbconvert_exporter": "python",
   "pygments_lexer": "ipython3",
   "version": "3.7.5"
  }
 },
 "nbformat": 4,
 "nbformat_minor": 2
}
